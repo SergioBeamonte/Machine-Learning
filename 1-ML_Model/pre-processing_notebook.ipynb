{
  "cells": [
    {
      "cell_type": "markdown",
      "metadata": {},
      "source": [
        "# Notebook de Selección de Características (Feature Selection)\n",
        "\n",
        "Este notebook implementa una variedad de técnicas de selección de características solicitadas, aplicadas al fichero `cleaned_main_financial_metrics.csv`.\n",
        "\n",
        "**Aviso Importante:** La lista proporcionada es extremadamente extensa y académica.\n",
        "* **Implementados:** Se implementarán los métodos más comunes y accesibles que se encuentran en las librerías estándar de Python (`scikit-learn`, `scipy`).\n",
        "* **No Implementados:** Muchos métodos (ej. Bi-normal separation, TNoM, GRASP, VNS, Scatter Search, ACO, PSO, Algoritmos de Estimación de Distribución, etc.) son muy especializados, no están en `scikit-learn` y requerirían implementaciones personalizadas complejas o librerías de nicho. Se dejará constancia de ellos.\n"
      ]
    },
    {
      "cell_type": "markdown",
      "metadata": {},
      "source": [
        "## 0. Importar Librerías"
      ]
    },
    {
      "cell_type": "code",
      "execution_count": 9,
      "metadata": {},
      "outputs": [],
      "source": [
        "import pandas as pd\n",
        "import numpy as np\n",
        "import time\n",
        "import warnings\n",
        "from matplotlib import pyplot as plt\n",
        "import seaborn as sns\n",
        "warnings.filterwarnings('ignore')"
      ]
    },
    {
      "cell_type": "markdown",
      "metadata": {},
      "source": [
        "## 1. Carga y Preparación de Datos"
      ]
    },
    {
      "cell_type": "code",
      "execution_count": 10,
      "id": "5131bf84",
      "metadata": {},
      "outputs": [
        {
          "name": "stdout",
          "output_type": "stream",
          "text": [
            "(1498, 56)\n",
            "Clases del objetivo: [np.int64(0), np.int64(1), np.int64(2), np.int64(3), np.int64(4)]\n",
            "Características numéricas (43): ['numberOfAnalystOpinions', 'currentPrice', 'allTimeHigh', 'allTimeLow', 'beta', 'averageVolume', 'marketCap', 'enterpriseValue', 'priceToBook', 'enterpriseToRevenue', 'profitMargins', 'grossMargins', 'ebitdaMargins', 'operatingMargins', 'returnOnAssets', 'returnOnEquity', 'totalRevenue', 'revenuePerShare', 'grossProfits', 'ebitda', 'netIncomeToCommon', 'trailingEps', 'totalCash', 'totalCashPerShare', 'totalDebt', 'quickRatio', 'currentRatio', 'bookValue', 'operatingCashflow', 'freeCashflow', 'trailingAnnualDividendYield', 'payoutRatio', 'sharesOutstanding', 'floatShares', 'sharesShort', 'sharesPercentSharesOut', 'shortRatio', 'shortPercentOfFloat', 'heldPercentInsiders', 'heldPercentInstitutions', 'fullTimeEmployees', '_debtToEquity', '_PER']\n",
            "Características categóricas (5): ['sector', 'In_SP500', 'In_NASDAQ', 'is_Insolvent', 'has_benefits']\n"
          ]
        }
      ],
      "source": [
        "# Preprocessing\n",
        "from sklearn.model_selection import train_test_split\n",
        "from sklearn.preprocessing import StandardScaler, LabelEncoder, MinMaxScaler, OneHotEncoder\n",
        "\n",
        "\n",
        "TARGET_VARIABLE = 'recommendationClass'\n",
        "COLUMNS_TO_DROP = [\n",
        "    'recommendationKey', 'recommendationMean', 'state',\n",
        "    'shortName', 'symbol', 'Ticker', 'fullExchangeName', 'twoHundredDayAverage',\n",
        "]\n",
        "\n",
        "df = pd.read_csv('../cleaned_main_financial_metrics.csv')\n",
        "\n",
        "\n",
        "# df=df[df['numberOfAnalystOpinions']>4].copy()\n",
        "df=df[df['enterpriseValue']>0].copy()\n",
        "print(df.shape)\n",
        "\n",
        "ALL_COLS = df.columns.tolist()\n",
        "FEATURE_COLS = [col for col in ALL_COLS if col not in COLUMNS_TO_DROP and col != TARGET_VARIABLE]\n",
        "\n",
        "NUMERIC_FEATURES = df[FEATURE_COLS].select_dtypes(include=['float64']).columns.tolist()\n",
        "CATEGORICAL_FEATURES = df[FEATURE_COLS].select_dtypes(include=['object', 'bool', 'int32', 'int64']).columns.tolist()\n",
        "\n",
        "existing_cols_to_drop = [col for col in COLUMNS_TO_DROP if col in df.columns]\n",
        "df_processed = df.drop(columns=existing_cols_to_drop)\n",
        "\n",
        "y = df_processed[TARGET_VARIABLE].copy()\n",
        "X = df_processed.drop(columns=[TARGET_VARIABLE]).copy()\n",
        "\n",
        "le = LabelEncoder()\n",
        "y_encoded = le.fit_transform(y).copy()\n",
        "print(f\"Clases del objetivo: {list(le.classes_)}\")\n",
        "\n",
        "\n",
        "numeric_features = X[NUMERIC_FEATURES].columns.tolist()\n",
        "categorical_features = X[CATEGORICAL_FEATURES].columns.tolist()\n",
        "\n",
        "print(f\"Características numéricas ({len(numeric_features)}): {numeric_features}\")\n",
        "print(f\"Características categóricas ({len(categorical_features)}): {categorical_features}\")\n",
        "\n",
        "for col in categorical_features:\n",
        "    X[col] = LabelEncoder().fit_transform(X[col])    \n"
      ]
    },
    {
      "cell_type": "code",
      "execution_count": 11,
      "id": "bbc54ef5",
      "metadata": {},
      "outputs": [],
      "source": [
        "# --- Split train/test estratificado ---\n",
        "X_train, X_test, y_train, y_test = train_test_split(X, y_encoded, test_size=0.2, random_state=42, stratify=y_encoded)\n",
        "\n",
        "# X_train =  X\n",
        "# y_train = y_encoded\n",
        "\n",
        "# X_test=X\n",
        "# y_text=y_encoded\n",
        "\n",
        "train = X_train.copy()\n",
        "train['target'] = y_train\n",
        "\n",
        "test = X_test.copy()\n",
        "test['target'] = y_test\n",
        "\n",
        "full_dataset = pd.concat([train, test], axis=0)\n",
        "\n",
        "# train.to_csv(r'WEKA_datasets/train_main_financial_metrics.csv', index=False)\n",
        "# test.to_csv(r'WEKA_datasets/test_main_financial_metrics.csv', index=False)\n",
        "# full_dataset.to_csv(r'WEKA_datasets/full_main_financial_metrics.csv', index=False)"
      ]
    },
    {
      "cell_type": "code",
      "execution_count": 12,
      "id": "66494fbe",
      "metadata": {},
      "outputs": [],
      "source": [
        "# # --- Seleccionar columnas categóricas para One-Hot ---\n",
        "# encoder = OneHotEncoder(sparse_output=False, drop='first', handle_unknown='ignore')\n",
        "\n",
        "# cat_cols = [\n",
        "#     col for col in df[FEATURE_COLS].select_dtypes(include=['object', 'int32', 'int64']).columns\n",
        "#     if col in X_train.columns and (\n",
        "#         X_train[col].nunique() > 2 or\n",
        "#         (X_train[col].nunique() == 2 and set(X_train[col].dropna().unique()) != {0, 1})\n",
        "#     )\n",
        "# ]\n",
        "\n",
        "# binary_cat_cols = [col for col in X_train.columns if col not in cat_cols and X_train[col].nunique() == 2]\n",
        "\n",
        "# # --- One-Hot encode -----------------------------------------------------\n",
        "# X_train_encoded_cat = pd.DataFrame(\n",
        "#     encoder.fit_transform(X_train[cat_cols]),\n",
        "#     columns=encoder.get_feature_names_out(cat_cols),\n",
        "#     index=X_train.index\n",
        "# )\n",
        "\n",
        "# X_test_encoded_cat = pd.DataFrame(\n",
        "#     encoder.transform(X_test[cat_cols]),\n",
        "#     columns=encoder.get_feature_names_out(cat_cols),\n",
        "#     index=X_test.index\n",
        "# )\n",
        "\n",
        "# processed_cat_columns = X_train_encoded_cat.columns.tolist() + binary_cat_cols\n",
        "\n",
        "# X_train_categorical = pd.concat([X_train[binary_cat_cols], X_train_encoded_cat], axis=1)\n",
        "# X_test_categorical = pd.concat([X_test[binary_cat_cols], X_test_encoded_cat], axis=1)\n",
        "\n",
        "# processed_cat_columns = CATEGORICAL_FEATURES.copy()\n",
        "\n",
        "# X_train_categorical = X_train[processed_cat_columns].copy()\n",
        "# X_test_categorical = X_test[processed_cat_columns].copy()\n",
        "\n"
      ]
    },
    {
      "cell_type": "code",
      "execution_count": null,
      "id": "fb1e39a7",
      "metadata": {},
      "outputs": [
        {
          "name": "stdout",
          "output_type": "stream",
          "text": [
            "✅ Archivos guardados con StandardScaler\n",
            "train_std_main_financial_metrics.csv\n",
            "test_std_main_financial_metrics.csv\n"
          ]
        }
      ],
      "source": [
        "# --- STANDARD SCALER -----------------------------------------------------\n",
        "scaler_std = StandardScaler()\n",
        "scaler_std.fit(X_train[NUMERIC_FEATURES])\n",
        "\n",
        "X_train_std = X_train.copy()\n",
        "X_train_std[NUMERIC_FEATURES] = scaler_std.transform(X_train[NUMERIC_FEATURES]).copy()\n",
        "\n",
        "X_test_std = X_test.copy()\n",
        "X_test_std[NUMERIC_FEATURES] = scaler_std.transform(X_test[NUMERIC_FEATURES]).copy()\n",
        "\n",
        "# Añadir target\n",
        "train_std = X_train_std.copy()\n",
        "test_std = X_test_std.copy()\n",
        "train_std[\"target\"] = y_train\n",
        "test_std[\"target\"] = y_test\n",
        "\n",
        "# Guardar CSV StandardScaler\n",
        "# train_std.to_csv(r\"WEKA_datasets/train_std_main_financial_metrics.csv\", index=False)\n",
        "# test_std.to_csv(r\"WEKA_datasets/test_std_main_financial_metrics.csv\", index=False)\n",
        "\n",
        "# print(\"✅ Archivos guardados con StandardScaler\")\n",
        "# print(\"train_std_main_financial_metrics.csv\")\n",
        "# print(\"test_std_main_financial_metrics.csv\")\n",
        "\n",
        "# --- MIN-MAX SCALER -----------------------------------------------------\n",
        "\n",
        "scaler_minmax = MinMaxScaler()\n",
        "scaler_minmax.fit(X_train[NUMERIC_FEATURES])\n",
        "\n",
        "X_train_minmax = X_train.copy()\n",
        "X_train_minmax[NUMERIC_FEATURES] = scaler_minmax.transform(X_train[NUMERIC_FEATURES]).copy()\n",
        "\n",
        "X_test_minmax = X_test.copy()\n",
        "X_test_minmax[NUMERIC_FEATURES] = scaler_minmax.transform(X_test[NUMERIC_FEATURES]).copy()\n",
        "\n",
        "# Añadir target\n",
        "train_minmax = X_train_minmax.copy()\n",
        "test_minmax = X_test_minmax.copy()\n",
        "train_minmax[\"target\"] = y_train\n",
        "test_minmax[\"target\"] = y_test\n",
        "\n",
        "# Guardar CSV MinMaxScaler\n",
        "# train_minmax.to_csv(r\"WEKA_datasets/train_minmax_main_financial_metrics.csv\", index=False)\n",
        "# test_minmax.to_csv(r\"WEKA_datasets/test_minmax_main_financial_metrics.csv\", index=False)\n",
        "\n",
        "# print(\"✅ Archivos guardados con MinMaxScaler\")\n",
        "# print(r\"WEKA_datasets/train_minmax_main_financial_metrics.csv\")\n",
        "# print(r\"WEKA_datasets/test_minmax_main_financial_metrics.csv\")"
      ]
    },
    {
      "cell_type": "code",
      "execution_count": 14,
      "id": "3fc5819d",
      "metadata": {},
      "outputs": [
        {
          "data": {
            "application/vnd.microsoft.datawrangler.viewer.v0+json": {
              "columns": [
                {
                  "name": "target",
                  "rawType": "int64",
                  "type": "integer"
                },
                {
                  "name": "count",
                  "rawType": "int64",
                  "type": "integer"
                }
              ],
              "ref": "7d96d27b-37c9-4317-951c-7369487ee674",
              "rows": [
                [
                  "2",
                  "365"
                ],
                [
                  "3",
                  "365"
                ],
                [
                  "1",
                  "365"
                ],
                [
                  "4",
                  "365"
                ],
                [
                  "0",
                  "365"
                ]
              ],
              "shape": {
                "columns": 1,
                "rows": 5
              }
            },
            "text/plain": [
              "target\n",
              "2    365\n",
              "3    365\n",
              "1    365\n",
              "4    365\n",
              "0    365\n",
              "Name: count, dtype: int64"
            ]
          },
          "metadata": {},
          "output_type": "display_data"
        },
        {
          "name": "stdout",
          "output_type": "stream",
          "text": [
            "✅ Train reequilibrado con SMOTE guardado: train_std_bal_main_finantial_metrics.csv\n"
          ]
        }
      ],
      "source": [
        "from imblearn.over_sampling import SMOTE\n",
        "\n",
        "# --- SMOTE sobre train (con StandardScaler) ---\n",
        "smote = SMOTE(random_state=42)\n",
        "X_train_balanced, y_train_balanced = smote.fit_resample(\n",
        "    train.drop(columns=[\"target\"]),\n",
        "    train[\"target\"]\n",
        ")\n",
        "\n",
        "X_train_std_balanced, y_train_std_balanced = smote.fit_resample(\n",
        "    train_std.drop(columns=[\"target\"]),\n",
        "    train_std[\"target\"]\n",
        ")\n",
        "\n",
        "train_balanced_df = X_train_balanced.copy()\n",
        "train_balanced_df[\"target\"] = y_train_balanced\n",
        "\n",
        "train_std_balanced_df = X_train_std_balanced.copy()\n",
        "train_std_balanced_df[\"target\"] = y_train_std_balanced\n",
        "\n",
        "# Guardar CSV reequilibrado\n",
        "display(train_balanced_df[\"target\"].value_counts())\n",
        "train_balanced_df.to_csv(r\"WEKA_datasets/train_bal_main_finantial_metrics.csv\", index=False)\n",
        "train_std_balanced_df.to_csv(r\"WEKA_datasets/train_std_bal_main_finantial_metrics.csv\", index=False)\n",
        "\n",
        "print(\"✅ Train reequilibrado con SMOTE guardado: train_std_bal_main_finantial_metrics.csv\")"
      ]
    },
    {
      "cell_type": "code",
      "execution_count": 15,
      "id": "1af4fce7",
      "metadata": {},
      "outputs": [
        {
          "data": {
            "text/plain": [
              "939"
            ]
          },
          "execution_count": 15,
          "metadata": {},
          "output_type": "execute_result"
        }
      ],
      "source": [
        "# Definir conjuntos finales para modelado. Esta vez usaré std scaler\n",
        "X_train = X_train_std.copy()\n",
        "X_test = X_test_std.copy()\n",
        "y_train = train_std['target'].copy()\n",
        "y_test = test_std['target'].copy()\n",
        "\n",
        "\n",
        "# Eliminar variables del namespace\n",
        "del X_train_std, X_test_std\n",
        "del X_train_minmax, X_test_minmax\n",
        "del train_std, test_std\n",
        "del train_minmax, test_minmax\n",
        "\n",
        "# Forzar recolección de basura\n",
        "import gc\n",
        "gc.collect()\n"
      ]
    },
    {
      "cell_type": "code",
      "execution_count": 16,
      "id": "53605abb",
      "metadata": {},
      "outputs": [],
      "source": [
        "import numpy as np\n",
        "import pandas as pd\n",
        "\n",
        "def apply_best_transformations(df, y, transformations):\n",
        "    \"\"\"\n",
        "    Aplica transformaciones (Log, Outlier Clipping) a un DataFrame \n",
        "    basado en un diccionario de métodos predefinido.\n",
        "\n",
        "    Args:\n",
        "        df (pd.DataFrame): El DataFrame original y sin procesar.\n",
        "        transformations (dict): Un diccionario que mapea nombres de columnas\n",
        "                                al método de transformación ('RAW', 'OUTLIERS', 'LOG').\n",
        "\n",
        "    Returns:\n",
        "        pd.DataFrame: Un nuevo DataFrame con las transformaciones aplicadas.\n",
        "    \"\"\"\n",
        "    # Crear una copia para evitar modificar el DataFrame original\n",
        "    processed_df = df.copy()\n",
        "    \n",
        "    # Conjunto para almacenar todos los índices de filas que se marcarán para eliminación\n",
        "    indices_to_drop = set()\n",
        "\n",
        "    print(f\"Aplicando transformaciones a {len(transformations)} features...\")\n",
        "\n",
        "    for col, method in transformations.items():\n",
        "        # Asegurarse de que la columna del diccionario existe en el DF\n",
        "        if col not in processed_df.columns:\n",
        "            print(f\"Warning: La columna '{col}' del diccionario no está en el DataFrame. Omitiendo.\")\n",
        "            continue\n",
        "\n",
        "        try:\n",
        "            if method == 'LOG':\n",
        "                # Replicar la lógica exacta del script de ploteo\n",
        "                min_val = processed_df[col].min()\n",
        "                \n",
        "                if pd.isna(min_val):\n",
        "                    print(f\" - {col}: Omitido (todos NaN).\")\n",
        "                    continue\n",
        "\n",
        "                if min_val > 0:\n",
        "                    processed_df[col] = np.log(processed_df[col])\n",
        "                    print(f\" - {col}: Aplicado np.log(x)\")\n",
        "                elif min_val >= 0:\n",
        "                    processed_df[col] = np.log1p(processed_df[col])\n",
        "                    print(f\" - {col}: Aplicado np.log1p(x)\")\n",
        "                else:\n",
        "                    # Aplicar shift para valores negativos\n",
        "                    shift = abs(min_val) + 1\n",
        "                    processed_df[col] = np.log(processed_df[col] + shift)\n",
        "                    print(f\" - {col}: Aplicado np.log(x + {shift:.1f})\")\n",
        "\n",
        "            elif method == 'CLIPPED':\n",
        "                # --- LÓGICA MODIFICADA ---\n",
        "                # Ya no se hace .clip(). Ahora se marcan las filas para borrarlas al final.\n",
        "                \n",
        "                # 1. Replicar el cálculo de cuantiles\n",
        "                q_low, q_high = processed_df[col].quantile(0.005), processed_df[col].quantile(0.995)\n",
        "                \n",
        "                if pd.isna(q_low) or pd.isna(q_high):\n",
        "                    print(f\" - {col}: Omitido (no se pudieron calcular cuantiles, ¿NaNs?).\")\n",
        "                    continue\n",
        "                \n",
        "                # 2. Encontrar los índices de las filas que están FUERA de los límites\n",
        "                outlier_indices = processed_df[\n",
        "                    (processed_df[col] < q_low) | (processed_df[col] > q_high)\n",
        "                ].index\n",
        "                \n",
        "                # 3. Añadir esos índices al conjunto de filas para eliminar\n",
        "                indices_to_drop.update(outlier_indices)\n",
        "                \n",
        "                if len(outlier_indices) > 0:\n",
        "                    print(f\" - {col}: Marcadas {len(outlier_indices)} filas como outliers (fuera de [{q_low:.2f}, {q_high:.2f}])\")\n",
        "                else:\n",
        "                    print(f\" - {col}: No se encontraron outliers (rango [{q_low:.2f}, {q_high:.2f}])\")\n",
        "\n",
        "            elif method == 'ORIGINAL':\n",
        "                # No se requiere transformación\n",
        "                print(f\" - {col}: Mantenido como 'ORIGINAL'.\")\n",
        "                pass\n",
        "            \n",
        "        except Exception as e:\n",
        "            print(f\"Error transformando la columna '{col}' con método '{method}': {e}. Omitiendo.\")\n",
        "\n",
        "    # --- PASO FINAL: Eliminar todas las filas marcadas ---\n",
        "    if indices_to_drop:\n",
        "        print(f\"\\nEliminando un total de {len(indices_to_drop)} filas únicas marcadas como outliers...\")\n",
        "        processed_df = processed_df.drop(index=list(indices_to_drop))\n",
        "        y = y.drop(index=list(indices_to_drop))\n",
        "        print(f\"Tamaño final del DataFrame: {len(processed_df)} filas.\")\n",
        "    else:\n",
        "        print(\"\\nNo se eliminaron filas por outliers.\")\n",
        "\n",
        "    print(\"Transformaciones completadas.\")\n",
        "    return processed_df, y\n"
      ]
    },
    {
      "cell_type": "code",
      "execution_count": 17,
      "id": "1fe1c285",
      "metadata": {},
      "outputs": [],
      "source": [
        "best_transformations = {'numberOfAnalystOpinions': 'ORIGINAL', 'currentPrice': 'LOG', 'allTimeHigh': 'LOG', 'allTimeLow': 'LOG', 'beta': 'CLIPPED', 'averageVolume': 'LOG', 'marketCap': 'LOG', 'enterpriseValue': 'LOG', 'priceToBook': 'LOG', 'enterpriseToRevenue': 'LOG', 'profitMargins': 'LOG', 'grossMargins': 'CLIPPED', 'ebitdaMargins': 'CLIPPED', 'operatingMargins': 'CLIPPED', 'returnOnAssets': 'ORIGINAL', 'returnOnEquity': 'CLIPPED', 'totalRevenue': 'LOG', 'revenuePerShare': 'LOG', 'grossProfits': 'ORIGINAL', 'ebitda': 'ORIGINAL', 'netIncomeToCommon': 'ORIGINAL', 'trailingEps': 'CLIPPED', 'totalCash': 'LOG', 'totalCashPerShare': 'LOG', 'totalDebt': 'LOG', 'quickRatio': 'LOG', 'currentRatio': 'LOG', 'bookValue': 'LOG', 'operatingCashflow': 'CLIPPED', 'freeCashflow': 'CLIPPED', 'trailingAnnualDividendYield': 'CLIPPED', 'payoutRatio': 'LOG', 'sharesOutstanding': 'LOG', 'floatShares': 'LOG', 'sharesShort': 'LOG', 'sharesPercentSharesOut': 'LOG', 'shortRatio': 'LOG', 'shortPercentOfFloat': 'LOG', 'heldPercentInsiders': 'CLIPPED', 'heldPercentInstitutions': 'CLIPPED', 'fullTimeEmployees': 'LOG', '_debtToEquity': 'LOG', '_PER': 'LOG'}\n"
      ]
    },
    {
      "cell_type": "code",
      "execution_count": 18,
      "id": "7b2ada25",
      "metadata": {},
      "outputs": [
        {
          "name": "stdout",
          "output_type": "stream",
          "text": [
            "Aplicando transformaciones a 43 features...\n",
            " - numberOfAnalystOpinions: Mantenido como 'ORIGINAL'.\n",
            " - currentPrice: Aplicado np.log(x)\n",
            " - allTimeHigh: Aplicado np.log(x)\n",
            " - allTimeLow: Aplicado np.log1p(x)\n",
            " - beta: Marcadas 16 filas como outliers (fuera de [-0.08, 4.01])\n",
            " - averageVolume: Aplicado np.log(x)\n",
            " - marketCap: Aplicado np.log(x)\n",
            " - enterpriseValue: Aplicado np.log(x)\n",
            " - priceToBook: Aplicado np.log(x)\n",
            " - enterpriseToRevenue: Aplicado np.log(x)\n",
            " - profitMargins: Aplicado np.log(x + 3.9)\n",
            " - grossMargins: Marcadas 8 filas como outliers (fuera de [-1.71, 1.00])\n",
            " - ebitdaMargins: Marcadas 16 filas como outliers (fuera de [-1.52, 0.90])\n",
            " - operatingMargins: Marcadas 16 filas como outliers (fuera de [-139.10, 0.82])\n",
            " - returnOnAssets: Mantenido como 'ORIGINAL'.\n",
            " - returnOnEquity: Marcadas 16 filas como outliers (fuera de [-1.90, 1.90])\n",
            " - totalRevenue: Aplicado np.log(x)\n",
            " - revenuePerShare: Aplicado np.log1p(x)\n",
            " - grossProfits: Mantenido como 'ORIGINAL'.\n",
            " - ebitda: Mantenido como 'ORIGINAL'.\n",
            " - netIncomeToCommon: Mantenido como 'ORIGINAL'.\n",
            " - trailingEps: Marcadas 16 filas como outliers (fuera de [-14.80, 36.38])\n",
            " - totalCash: Aplicado np.log(x)\n",
            " - totalCashPerShare: Aplicado np.log1p(x)\n",
            " - totalDebt: Aplicado np.log(x)\n",
            " - quickRatio: Aplicado np.log(x)\n",
            " - currentRatio: Aplicado np.log(x)\n",
            " - bookValue: Aplicado np.log(x)\n",
            " - operatingCashflow: Marcadas 16 filas como outliers (fuera de [-974694484.48, 47822370611.20])\n",
            " - freeCashflow: Marcadas 16 filas como outliers (fuera de [-4366174935.04, 25215073986.56])\n",
            " - trailingAnnualDividendYield: Marcadas 8 filas como outliers (fuera de [0.00, 0.13])\n",
            " - payoutRatio: Aplicado np.log1p(x)\n",
            " - sharesOutstanding: Aplicado np.log(x)\n",
            " - floatShares: Aplicado np.log(x)\n",
            " - sharesShort: Aplicado np.log(x)\n",
            " - sharesPercentSharesOut: Aplicado np.log(x)\n",
            " - shortRatio: Aplicado np.log(x)\n",
            " - shortPercentOfFloat: Aplicado np.log(x)\n",
            " - heldPercentInsiders: Marcadas 16 filas como outliers (fuera de [0.00, 0.73])\n",
            " - heldPercentInstitutions: Marcadas 16 filas como outliers (fuera de [0.22, 1.25])\n",
            " - fullTimeEmployees: Aplicado np.log(x)\n",
            " - _debtToEquity: Aplicado np.log(x)\n",
            " - _PER: Aplicado np.log1p(x)\n",
            "\n",
            "Eliminando un total de 137 filas únicas marcadas como outliers...\n",
            "Tamaño final del DataFrame: 1361 filas.\n",
            "Transformaciones completadas.\n",
            "✅ Archivos guardados con StandardScaler\n",
            "train_std_main_financial_metrics.csv\n",
            "test_std_main_financial_metrics.csv\n"
          ]
        },
        {
          "data": {
            "application/vnd.microsoft.datawrangler.viewer.v0+json": {
              "columns": [
                {
                  "name": "target",
                  "rawType": "int64",
                  "type": "integer"
                },
                {
                  "name": "count",
                  "rawType": "int64",
                  "type": "integer"
                }
              ],
              "ref": "df60cfba-7b99-4a87-917d-46a3a4bc24a2",
              "rows": [
                [
                  "4",
                  "337"
                ],
                [
                  "1",
                  "337"
                ],
                [
                  "2",
                  "337"
                ],
                [
                  "3",
                  "337"
                ],
                [
                  "0",
                  "337"
                ]
              ],
              "shape": {
                "columns": 1,
                "rows": 5
              }
            },
            "text/plain": [
              "target\n",
              "4    337\n",
              "1    337\n",
              "2    337\n",
              "3    337\n",
              "0    337\n",
              "Name: count, dtype: int64"
            ]
          },
          "metadata": {},
          "output_type": "display_data"
        }
      ],
      "source": [
        "\n",
        "X_processed , y_processed = apply_best_transformations(X, y, best_transformations)\n",
        "\n",
        "le = LabelEncoder()\n",
        "y_proc_encoded = le.fit_transform(y_processed)\n",
        "\n",
        "# --- Split train/test estratificado ---\n",
        "X_train_proc, X_test_proc, y_proc_train, y_proc_test = train_test_split(X_processed, y_proc_encoded, test_size=0.2, random_state=42, stratify=y_proc_encoded)\n",
        "\n",
        "# X_train_proc = X_processed\n",
        "# y_proc_train = y_proc_encoded\n",
        "\n",
        "# X_test_proc = X_processed\n",
        "# y_proc_test = y_proc_encoded\n",
        "\n",
        "train_proc = X_train_proc.copy()\n",
        "train_proc['target'] = y_proc_train\n",
        "\n",
        "test_proc = X_test_proc.copy()\n",
        "test_proc['target'] = y_proc_test\n",
        "\n",
        "# --- STANDARD SCALER -----------------------------------------------------\n",
        "scaler_std = StandardScaler()\n",
        "scaler_std.fit(X_train_proc[NUMERIC_FEATURES])\n",
        "\n",
        "X_train_proc_std = X_train_proc.copy()\n",
        "X_train_proc_std[NUMERIC_FEATURES] = scaler_std.transform(X_train_proc[NUMERIC_FEATURES]).copy()\n",
        "\n",
        "X_test_proc_std = X_test_proc.copy()\n",
        "X_test_proc_std[NUMERIC_FEATURES] = scaler_std.transform(X_test_proc[NUMERIC_FEATURES]).copy()\n",
        "\n",
        "# Añadir target\n",
        "train_proc_std = X_train_proc_std.copy()\n",
        "test_proc_std = X_test_proc_std.copy()\n",
        "train_proc_std[\"target\"] = y_proc_train\n",
        "test_proc_std[\"target\"] = y_proc_test\n",
        "\n",
        "# Guardar sin SMOTE\n",
        "# train_proc_std.to_csv(r\"WEKA_datasets/train_proc_std_main_financial_metrics.csv\", index=False)\n",
        "\n",
        "print(\"✅ Archivos guardados con StandardScaler\")\n",
        "print(\"train_std_main_financial_metrics.csv\")\n",
        "print(\"test_std_main_financial_metrics.csv\")\n",
        "\n",
        "\n",
        "# --- SMOTE sobre train (con StandardScaler) ---\n",
        "smote = SMOTE(random_state=42)\n",
        "X_train_proc_std_balanced, y_proc_train_balanced = smote.fit_resample(\n",
        "    train_proc_std.drop(columns=[\"target\"]),\n",
        "    train_proc_std[\"target\"]\n",
        ")\n",
        "\n",
        "train_proc_std_balanced = X_train_proc_std_balanced.copy()\n",
        "train_proc_std_balanced[\"target\"] = y_proc_train_balanced\n",
        "\n",
        "# Guardar CSV reequilibrado\n",
        "display(train_proc_std_balanced[\"target\"].value_counts())\n",
        "train_proc_std_balanced.to_csv(r\"WEKA_datasets/train_processed_std_bal_main_financial_metrics.csv\", index=False)\n",
        "\n",
        "test_proc_std.to_csv(r\"WEKA_datasets/test_processed_std_main_financial_metrics.csv\", index=False)"
      ]
    }
  ],
  "metadata": {
    "kernelspec": {
      "display_name": "finan-ml",
      "language": "python",
      "name": "python3"
    },
    "language_info": {
      "codemirror_mode": {
        "name": "ipython",
        "version": 3
      },
      "file_extension": ".py",
      "mimetype": "text/x-python",
      "name": "python",
      "nbconvert_exporter": "python",
      "pygments_lexer": "ipython3",
      "version": "3.13.7"
    }
  },
  "nbformat": 4,
  "nbformat_minor": 5
}
