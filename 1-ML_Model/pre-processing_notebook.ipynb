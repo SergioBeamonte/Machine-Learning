{
  "cells": [
    {
      "cell_type": "markdown",
      "metadata": {},
      "source": [
        "# Notebook de Selección de Características (Feature Selection)\n",
        "\n",
        "Este notebook implementa una variedad de técnicas de selección de características solicitadas, aplicadas al fichero `cleaned_main_financial_metrics.csv`.\n",
        "\n",
        "**Aviso Importante:** La lista proporcionada es extremadamente extensa y académica.\n",
        "* **Implementados:** Se implementarán los métodos más comunes y accesibles que se encuentran en las librerías estándar de Python (`scikit-learn`, `scipy`).\n",
        "* **No Implementados:** Muchos métodos (ej. Bi-normal separation, TNoM, GRASP, VNS, Scatter Search, ACO, PSO, Algoritmos de Estimación de Distribución, etc.) son muy especializados, no están en `scikit-learn` y requerirían implementaciones personalizadas complejas o librerías de nicho. Se dejará constancia de ellos.\n"
      ]
    },
    {
      "cell_type": "markdown",
      "metadata": {},
      "source": [
        "## 0. Importar Librerías"
      ]
    },
    {
      "cell_type": "code",
      "execution_count": 26,
      "metadata": {},
      "outputs": [],
      "source": [
        "import pandas as pd\n",
        "import numpy as np\n",
        "import time\n",
        "import warnings\n",
        "from matplotlib import pyplot as plt\n",
        "import seaborn as sns\n",
        "warnings.filterwarnings('ignore')\n",
        "\n",
        "\n",
        "# Filter Methods\n",
        "from sklearn.feature_selection import SelectKBest, f_classif, chi2, mutual_info_classif\n",
        "from scipy.stats import mannwhitneyu, kruskal\n",
        "\n",
        "# Wrapper Methods\n",
        "from sklearn.feature_selection import SequentialFeatureSelector\n",
        "from sklearn.metrics import accuracy_score, make_scorer\n",
        "\n",
        "# Models (Non-probabilistic)\n",
        "from sklearn.neighbors import KNeighborsClassifier\n",
        "from sklearn.neural_network import MLPClassifier\n",
        "from sklearn.svm import SVC\n",
        "from sklearn.tree import DecisionTreeClassifier"
      ]
    },
    {
      "cell_type": "markdown",
      "metadata": {},
      "source": [
        "## 1. Carga y Preparación de Datos"
      ]
    },
    {
      "cell_type": "code",
      "execution_count": 27,
      "id": "5131bf84",
      "metadata": {},
      "outputs": [
        {
          "name": "stdout",
          "output_type": "stream",
          "text": [
            "Clases del objetivo: [np.int64(0), np.int64(1), np.int64(2), np.int64(3), np.int64(4)]\n",
            "Características numéricas (43): ['numberOfAnalystOpinions', 'currentPrice', 'allTimeHigh', 'allTimeLow', 'beta', 'averageVolume', 'marketCap', 'enterpriseValue', 'priceToBook', 'enterpriseToRevenue', 'profitMargins', 'grossMargins', 'ebitdaMargins', 'operatingMargins', 'returnOnAssets', 'returnOnEquity', 'totalRevenue', 'revenuePerShare', 'grossProfits', 'ebitda', 'netIncomeToCommon', 'trailingEps', 'totalCash', 'totalCashPerShare', 'totalDebt', 'quickRatio', 'currentRatio', 'bookValue', 'operatingCashflow', 'freeCashflow', 'trailingAnnualDividendYield', 'payoutRatio', 'sharesOutstanding', 'floatShares', 'sharesShort', 'sharesPercentSharesOut', 'shortRatio', 'shortPercentOfFloat', 'heldPercentInsiders', 'heldPercentInstitutions', 'fullTimeEmployees', '_debtToEquity', '_PER']\n",
            "Características categóricas (6): ['sector', 'state', 'In_SP500', 'In_NASDAQ', 'is_Insolvent', 'has_benefits']\n"
          ]
        }
      ],
      "source": [
        "# Preprocessing\n",
        "from sklearn.model_selection import train_test_split\n",
        "from sklearn.preprocessing import StandardScaler, LabelEncoder, MinMaxScaler, OneHotEncoder\n",
        "\n",
        "\n",
        "TARGET_VARIABLE = 'recommendationClass'\n",
        "COLUMNS_TO_DROP = [\n",
        "    'recommendationKey', 'recommendationMean',\n",
        "    'shortName', 'symbol', 'Ticker', 'fullExchangeName', 'twoHundredDayAverage',\n",
        "]\n",
        "\n",
        "df = pd.read_csv('../cleaned_main_financial_metrics.csv')\n",
        "\n",
        "ALL_COLS = df.columns.tolist()\n",
        "FEATURE_COLS = [col for col in ALL_COLS if col not in COLUMNS_TO_DROP and col != TARGET_VARIABLE]\n",
        "\n",
        "NUMERIC_FEATURES = df[FEATURE_COLS].select_dtypes(include=['float64']).columns.tolist()\n",
        "CATEGORICAL_FEATURES = df[FEATURE_COLS].select_dtypes(include=['object', 'bool', 'int32', 'int64']).columns.tolist()\n",
        "\n",
        "existing_cols_to_drop = [col for col in COLUMNS_TO_DROP if col in df.columns]\n",
        "df_processed = df.drop(columns=existing_cols_to_drop)\n",
        "\n",
        "y = df_processed[TARGET_VARIABLE]\n",
        "X = df_processed.drop(columns=[TARGET_VARIABLE])\n",
        "\n",
        "le = LabelEncoder()\n",
        "y_encoded = le.fit_transform(y)\n",
        "print(f\"Clases del objetivo: {list(le.classes_)}\")\n",
        "\n",
        "\n",
        "numeric_features = X[NUMERIC_FEATURES].columns.tolist()\n",
        "categorical_features = X[CATEGORICAL_FEATURES].columns.tolist()\n",
        "\n",
        "print(f\"Características numéricas ({len(numeric_features)}): {numeric_features}\")\n",
        "print(f\"Características categóricas ({len(categorical_features)}): {categorical_features}\")\n",
        "\n",
        "for col in categorical_features:\n",
        "    X[col] = LabelEncoder().fit_transform(X[col])    \n"
      ]
    },
    {
      "cell_type": "code",
      "execution_count": 34,
      "id": "bbc54ef5",
      "metadata": {},
      "outputs": [],
      "source": [
        "# --- Split train/test estratificado ---\n",
        "X_train, X_test, y_train, y_test = train_test_split(X, y_encoded, test_size=0.3, random_state=42, stratify=y_encoded)\n",
        "\n",
        "train = X_train.copy()\n",
        "train['target'] = y_train\n",
        "\n",
        "test = X_test.copy()\n",
        "test['target'] = y_test\n",
        "\n",
        "train = train.drop(columns=['numberOfAnalystOpinions'])\n",
        "test = test.drop(columns=['numberOfAnalystOpinions'])\n",
        "full_dataset = pd.concat([train, test], axis=0)\n",
        "\n",
        "train.to_csv('train_main_financial_metrics.csv', index=False)\n",
        "test.to_csv('test_main_financial_metrics.csv', index=False)\n",
        "full_dataset.to_csv('full_main_financial_metrics.csv', index=False)"
      ]
    },
    {
      "cell_type": "code",
      "execution_count": 29,
      "id": "66494fbe",
      "metadata": {},
      "outputs": [],
      "source": [
        "# # --- Seleccionar columnas categóricas para One-Hot ---\n",
        "# encoder = OneHotEncoder(sparse_output=False, drop='first', handle_unknown='ignore')\n",
        "\n",
        "# cat_cols = [\n",
        "#     col for col in df[FEATURE_COLS].select_dtypes(include=['object', 'int32', 'int64']).columns\n",
        "#     if col in X_train.columns and (\n",
        "#         X_train[col].nunique() > 2 or\n",
        "#         (X_train[col].nunique() == 2 and set(X_train[col].dropna().unique()) != {0, 1})\n",
        "#     )\n",
        "# ]\n",
        "\n",
        "# binary_cat_cols = [col for col in X_train.columns if col not in cat_cols and X_train[col].nunique() == 2]\n",
        "\n",
        "# # --- One-Hot encode -----------------------------------------------------\n",
        "# X_train_encoded_cat = pd.DataFrame(\n",
        "#     encoder.fit_transform(X_train[cat_cols]),\n",
        "#     columns=encoder.get_feature_names_out(cat_cols),\n",
        "#     index=X_train.index\n",
        "# )\n",
        "\n",
        "# X_test_encoded_cat = pd.DataFrame(\n",
        "#     encoder.transform(X_test[cat_cols]),\n",
        "#     columns=encoder.get_feature_names_out(cat_cols),\n",
        "#     index=X_test.index\n",
        "# )\n",
        "\n",
        "# processed_cat_columns = X_train_encoded_cat.columns.tolist() + binary_cat_cols\n",
        "\n",
        "# X_train_categorical = pd.concat([X_train[binary_cat_cols], X_train_encoded_cat], axis=1)\n",
        "# X_test_categorical = pd.concat([X_test[binary_cat_cols], X_test_encoded_cat], axis=1)\n",
        "\n",
        "processed_cat_columns = CATEGORICAL_FEATURES.copy()\n",
        "\n",
        "X_train_categorical = X_train[processed_cat_columns].copy()\n",
        "X_test_categorical = X_test[processed_cat_columns].copy()\n",
        "\n"
      ]
    },
    {
      "cell_type": "code",
      "execution_count": 30,
      "id": "fb1e39a7",
      "metadata": {},
      "outputs": [
        {
          "name": "stdout",
          "output_type": "stream",
          "text": [
            "✅ Archivos guardados con StandardScaler\n",
            "train_std_main_financial_metrics.csv\n",
            "test_std_main_financial_metrics.csv\n",
            "✅ Archivos guardados con MinMaxScaler\n",
            "train_minmax_main_financial_metrics.csv\n",
            "test_minmax_main_financial_metrics.csv\n"
          ]
        }
      ],
      "source": [
        "# --- STANDARD SCALER -----------------------------------------------------\n",
        "scaler_std = StandardScaler()\n",
        "X_train_scaled_num = pd.DataFrame(\n",
        "    scaler_std.fit_transform(X_train[numeric_features]),\n",
        "    columns=numeric_features,\n",
        "    index=X_train.index\n",
        ")\n",
        "X_test_scaled_num = pd.DataFrame(\n",
        "    scaler_std.transform(X_test[numeric_features]),\n",
        "    columns=numeric_features,\n",
        "    index=X_test.index\n",
        ")\n",
        "\n",
        "# Combinar numéricas, binarias y One-Hot\n",
        "X_train_std_final = pd.concat([X_train_scaled_num, X_train_categorical], axis=1)\n",
        "X_test_std_final = pd.concat([X_test_scaled_num, X_test_categorical], axis=1)\n",
        "\n",
        "# Añadir target\n",
        "train_std_final = X_train_std_final.copy()\n",
        "test_std_final = X_test_std_final.copy()\n",
        "train_std_final[\"target\"] = y_train\n",
        "test_std_final[\"target\"] = y_test\n",
        "\n",
        "# Guardar CSV StandardScaler\n",
        "train_std_final.to_csv(\"train_std_main_financial_metrics.csv\", index=False)\n",
        "test_std_final.to_csv(\"test_std_main_financial_metrics.csv\", index=False)\n",
        "\n",
        "print(\"✅ Archivos guardados con StandardScaler\")\n",
        "print(\"train_std_main_financial_metrics.csv\")\n",
        "print(\"test_std_main_financial_metrics.csv\")\n",
        "\n",
        "# --- MIN-MAX SCALER ------------------------------------------------------\n",
        "scaler_minmax = MinMaxScaler()\n",
        "X_train_minmax_num = pd.DataFrame(\n",
        "    scaler_minmax.fit_transform(X_train[numeric_features]),\n",
        "    columns=numeric_features,\n",
        "    index=X_train.index\n",
        ")\n",
        "\n",
        "X_test_minmax_num = pd.DataFrame(\n",
        "    scaler_minmax.transform(X_test[numeric_features]),\n",
        "    columns=numeric_features,\n",
        "    index=X_test.index\n",
        ")\n",
        "\n",
        "# Combinar numéricas, binarias y One-Hot\n",
        "X_train_minmax_final = pd.concat([X_train_minmax_num, X_train_categorical], axis=1)\n",
        "X_test_minmax_final = pd.concat([X_test_minmax_num, X_test_categorical], axis=1)\n",
        "\n",
        "# Añadir target\n",
        "train_minmax_final = X_train_minmax_final.copy()\n",
        "test_minmax_final = X_test_minmax_final.copy()\n",
        "train_minmax_final[\"target\"] = y_train\n",
        "test_minmax_final[\"target\"] = y_test\n",
        "\n",
        "# Guardar CSV MinMaxScaler\n",
        "train_minmax_final.to_csv(\"train_minmax_main_financial_metrics.csv\", index=False)\n",
        "test_minmax_final.to_csv(\"test_minmax_main_financial_metrics.csv\", index=False)\n",
        "\n",
        "print(\"✅ Archivos guardados con MinMaxScaler\")\n",
        "print(\"train_minmax_main_financial_metrics.csv\")\n",
        "print(\"test_minmax_main_financial_metrics.csv\")"
      ]
    },
    {
      "cell_type": "code",
      "execution_count": 31,
      "id": "3fc5819d",
      "metadata": {},
      "outputs": [],
      "source": [
        "# from imblearn.over_sampling import SMOTE\n",
        "\n",
        "# # --- SMOTE sobre train (solo StandardScaler como ejemplo) ---\n",
        "# smote = SMOTE(random_state=42)\n",
        "# X_train_balanced, y_train_balanced = smote.fit_resample(\n",
        "#     train_std_final.drop(columns=[\"target\"]),\n",
        "#     train_std_final[\"target\"]\n",
        "# )\n",
        "\n",
        "# train_balanced_df = X_train_balanced.copy()\n",
        "# train_balanced_df[\"target\"] = y_train_balanced\n",
        "\n",
        "# # Guardar CSV reequilibrado\n",
        "# display(train_balanced_df[\"target\"].value_counts())\n",
        "# train_balanced_df.to_csv(\"train_std_balanced.csv\", index=False)\n",
        "# print(\"✅ Train reequilibrado con SMOTE guardado: train_std_balanced.csv\")"
      ]
    },
    {
      "cell_type": "code",
      "execution_count": 32,
      "id": "1af4fce7",
      "metadata": {},
      "outputs": [
        {
          "data": {
            "text/plain": [
              "783"
            ]
          },
          "execution_count": 32,
          "metadata": {},
          "output_type": "execute_result"
        }
      ],
      "source": [
        "# Definir conjuntos finales para modelado. Esta vez usaré std scaler\n",
        "X_train = X_train_std_final.copy()\n",
        "X_test = X_test_std_final.copy()\n",
        "y_train = train_std_final['target'].copy()\n",
        "y_test = test_std_final['target'].copy()\n",
        "\n",
        "\n",
        "# Eliminar variables del namespace\n",
        "del X_train_std_final, X_test_std_final\n",
        "del X_train_minmax_final, X_test_minmax_final\n",
        "del train_std_final, test_std_final\n",
        "del train_minmax_final, test_minmax_final\n",
        "\n",
        "# Forzar recolección de basura\n",
        "import gc\n",
        "gc.collect()\n"
      ]
    }
  ],
  "metadata": {
    "kernelspec": {
      "display_name": "finan-ml",
      "language": "python",
      "name": "python3"
    },
    "language_info": {
      "codemirror_mode": {
        "name": "ipython",
        "version": 3
      },
      "file_extension": ".py",
      "mimetype": "text/x-python",
      "name": "python",
      "nbconvert_exporter": "python",
      "pygments_lexer": "ipython3",
      "version": "3.13.7"
    }
  },
  "nbformat": 4,
  "nbformat_minor": 5
}
