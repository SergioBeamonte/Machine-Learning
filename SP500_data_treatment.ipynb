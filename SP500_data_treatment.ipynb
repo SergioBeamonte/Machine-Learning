{
 "cells": [
  {
   "cell_type": "code",
   "execution_count": null,
   "id": "ae8bf00b",
   "metadata": {},
   "outputs": [],
   "source": [
    "import pandas as pd\n",
    "\n",
    "def clean_data(df):\n",
    "    # Drop column: 'Address'\n",
    "    df = df.drop(columns=['Address', 'OfficialSite', 'Country', 'Currency', 'AssetType', 'Symbol'])\n",
    "    cols = [\n",
    "        'AnalystRatingStrongBuy',\n",
    "        'AnalystRatingBuy',\n",
    "        'AnalystRatingHold',\n",
    "        'AnalystRatingSell',\n",
    "        'AnalystRatingStrongSell'\n",
    "    ]\n",
    "    # Convertir a numérico (valores no numéricos se transforman en NaN)\n",
    "    df[cols] = df[cols].apply(pd.to_numeric, errors='coerce')\n",
    "    # Ahora sí, sumamos por fila\n",
    "    df['TotalNumAnalyst'] = df[cols].sum(axis=1, skipna=True)\n",
    "    return df\n",
    "\n",
    "# Loaded variable 'df' from URI: c:\\Users\\SergioBeamonteGonzal\\Documentos Locales\\MASTER\\Machine Learning\\sp500metrics.csv\n",
    "df = pd.read_csv(r'c:\\Users\\SergioBeamonteGonzal\\Documentos Locales\\MASTER\\Machine Learning\\sp500metrics.csv')\n",
    "\n",
    "df_clean = clean_data(df.copy())\n",
    "df_clean.head()"
   ]
  }
 ],
 "metadata": {
  "kernelspec": {
   "display_name": "finan-ml",
   "language": "python",
   "name": "python3"
  },
  "language_info": {
   "name": "python",
   "version": "3.13.7"
  }
 },
 "nbformat": 4,
 "nbformat_minor": 5
}
